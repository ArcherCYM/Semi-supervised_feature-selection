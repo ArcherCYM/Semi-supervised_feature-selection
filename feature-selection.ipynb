{
 "cells": [
  {
   "cell_type": "markdown",
   "id": "ec815592",
   "metadata": {},
   "source": [
    "### data preparation"
   ]
  },
  {
   "cell_type": "code",
   "execution_count": 1,
   "id": "8c0e3cc2",
   "metadata": {},
   "outputs": [],
   "source": [
    "import numpy as np\n",
    "import scipy.io as scio\n",
    " \n",
    "dataFile = 'datasets/ORL.mat'\n",
    "data = scio.loadmat(dataFile)"
   ]
  },
  {
   "cell_type": "code",
   "execution_count": 2,
   "id": "d7321f39",
   "metadata": {},
   "outputs": [],
   "source": [
    "x = data['X']\n",
    "y = data['Y']"
   ]
  },
  {
   "cell_type": "code",
   "execution_count": 3,
   "id": "242e0b2b",
   "metadata": {},
   "outputs": [
    {
     "data": {
      "text/plain": [
       "((400, 1024), (400, 1))"
      ]
     },
     "execution_count": 3,
     "metadata": {},
     "output_type": "execute_result"
    }
   ],
   "source": [
    "x.shape,y.shape"
   ]
  },
  {
   "cell_type": "code",
   "execution_count": 4,
   "id": "b9554461",
   "metadata": {},
   "outputs": [],
   "source": [
    "from sklearn.model_selection import train_test_split\n",
    "from sklearn import preprocessing\n",
    "x = preprocessing.scale(x)\n",
    "X_train,X_test,y_train,y_test = train_test_split(x,y,test_size=0.5)"
   ]
  },
  {
   "cell_type": "code",
   "execution_count": 5,
   "id": "0480dd85",
   "metadata": {},
   "outputs": [],
   "source": [
    "#In the experiments, the data are normalized with zero mean and unit variance. \n",
    "#论文第四章说明\n",
    "\n",
    "#For each data set, 50% of samples were randomly chosen as training data and the remaining samples were used as test data.\n",
    "#论文4.1章说明"
   ]
  },
  {
   "cell_type": "code",
   "execution_count": 6,
   "id": "402e93a7",
   "metadata": {},
   "outputs": [],
   "source": [
    "x = np.vstack((X_train,X_test))\n",
    "y = np.vstack((y_train,y_test))\n",
    "train_length = len(X_train)"
   ]
  },
  {
   "cell_type": "markdown",
   "id": "fe6eaff0",
   "metadata": {},
   "source": [
    "---\n",
    "### data initialization"
   ]
  },
  {
   "cell_type": "code",
   "execution_count": 7,
   "id": "9daca4c6",
   "metadata": {},
   "outputs": [],
   "source": [
    "#X data feature matrix ,包含训练集和测试集\n",
    "X = x.T\n",
    "n = len(x)\n",
    "#Y_L labeled matrix\n",
    "c = len(set(y.reshape(-1)))\n",
    "Y = np.zeros((n,c))\n",
    "for i in range(train_length):\n",
    "    Y[i,y.reshape(-1)[i] - 1] = 1\n",
    "\n",
    "Y_L = Y[:train_length]\n",
    "# lamda and beta is hyper-parameters\n",
    "#β is a trade-off parameter that balances feature selection and discriminative analysis\n",
    "#λ is the regularization parameter\n",
    "#γ is a very large positive parameter to ensure that the orthogonality is satisfied\n",
    "beta = 1\n",
    "lamda = 1\n",
    "gamma = 10**10"
   ]
  },
  {
   "cell_type": "code",
   "execution_count": 8,
   "id": "ad4e7ef4",
   "metadata": {},
   "outputs": [
    {
     "data": {
      "text/plain": [
       "(400, 40)"
      ]
     },
     "execution_count": 8,
     "metadata": {},
     "output_type": "execute_result"
    }
   ],
   "source": [
    "Y.shape"
   ]
  },
  {
   "cell_type": "code",
   "execution_count": 9,
   "id": "bc11bdf2",
   "metadata": {},
   "outputs": [],
   "source": [
    "from scipy.spatial.distance import pdist\n",
    "from scipy.spatial.distance import squareform\n",
    "\n",
    "def getAffinity_Matrix(data):\n",
    "    # data是一个向量矩阵：euclidean代表欧式距离\n",
    "    distA=pdist(data,metric='euclidean')\n",
    "    # 将distA数组变成一个矩阵\n",
    "    affinity = squareform(distA)\n",
    "    return affinity"
   ]
  },
  {
   "cell_type": "code",
   "execution_count": 10,
   "id": "d76ce558",
   "metadata": {},
   "outputs": [],
   "source": [
    "#Compute the similarity S and Laplacian matrix L\n",
    "\n",
    "S = getAffinity_Matrix(X.T)\n",
    "\n",
    "D = np.zeros(S.shape)\n",
    "for i in range(len(D)):\n",
    "    temp_ = 0\n",
    "    for j in range(len(S)):\n",
    "        temp_ += (S[i,j] + S[j,i])/2\n",
    "    D[i,i] = temp_\n",
    "    \n",
    "L = D - (S + S.T)/2"
   ]
  },
  {
   "cell_type": "code",
   "execution_count": 11,
   "id": "aff4cad9",
   "metadata": {},
   "outputs": [],
   "source": [
    "#Initialize U and Z;\n",
    "#where U is a diagonal matrix representing consistent constraints imposed on the labeled data, \n",
    "#with Uii equaling to a very large number (e.g., 10**10) \n",
    "#if i = 1, . . . , l and 0 if i = l + 1, . . . , n.\n",
    "U = np.diag([0] * len(D))\n",
    "for i in range(train_length):\n",
    "    U[i,i] = 10**10"
   ]
  },
  {
   "cell_type": "code",
   "execution_count": 12,
   "id": "7e7d97d4",
   "metadata": {},
   "outputs": [],
   "source": [
    "#where zk is an indicator vector representing whether a feature is chosen or not for the k-th class\n",
    "K = len(set(y.reshape(-1)))\n",
    "d = X.shape[0]\n",
    "n = X.shape[1]\n",
    "Z = np.zeros((d,K))\n",
    "m = 200\n",
    "#对每个特征随机生成m个被选择的特征\n",
    "for i in range(K):\n",
    "    Z[np.random.choice(np.arange(d), m,replace = False),i] = 1\n",
    "\n",
    "#验证一下我们生成的Z是否正确。\n",
    "k = np.random.choice(np.arange(K)) #随机抽取K的一列\n",
    "Z_k = Z[:,k] #这一列赋值给Z_k\n",
    "assert np.dot(Z_k,np.ones(d)) == m #详见论文公式5，Z_k.T*1_d = m"
   ]
  },
  {
   "cell_type": "code",
   "execution_count": 13,
   "id": "7ac9638c",
   "metadata": {},
   "outputs": [],
   "source": [
    "#G denotes the binary relationship between the i-th sample and the j-th class. \n",
    "#According to the definition of G, Gij = 1 or Gij = 0, and G1c = 1n\n",
    "G = np.zeros((n,K))\n",
    "for i in range(len(G)):\n",
    "    G[i,y.reshape(-1)[i] - 1] = 1\n",
    "\n",
    "#验证一下我们生成的初始值G是否正确。\n",
    "assert (np.dot(G,np.ones(K)) == np.ones(n)).all() #详见论文公式3 G * 1_c = 1_n"
   ]
  },
  {
   "cell_type": "code",
   "execution_count": 14,
   "id": "a8254960",
   "metadata": {},
   "outputs": [],
   "source": [
    "#Thus, the integer constraints imposed on Z are also relaxed to real\n",
    "#nonnegative constraints\n",
    "Z = np.zeros((d,K))\n",
    "for i in range(K):\n",
    "    Z[:,i] = np.random.dirichlet(np.ones(d),size=1)\n",
    "    \n",
    "k = np.random.choice(np.arange(K)) #随机抽取K的一列\n",
    "Z_k = Z[:,k] #这一列赋值给Z_k\n",
    "assert np.round(np.dot(Z_k,np.ones(d)),4) == 1 #详见论文公式8，z_k >= 0, z_k.T * 1_d = 1.\n",
    "#为什么需要round做一个近似，是因为程序里不存在绝对精准的数字，比如这里得到的浮点数是0.999999999999，所以需要做一个近似。"
   ]
  },
  {
   "cell_type": "code",
   "execution_count": 15,
   "id": "243a0aee",
   "metadata": {},
   "outputs": [],
   "source": [
    "#The constraints imposed on G\n",
    "#ensure that only one element in each row of G is equal to 1 and all the others are 0. Similar to [5], the\n",
    "#nonnegative and orthogonal constraints imposed on G have the same properties. In fact, features are\n",
    "#selected according to their importance.\n",
    "for i in range(len(G)):\n",
    "    temp1_ = y.reshape(-1)\n",
    "    length_ = len(np.where(temp1_ == temp1_[i])[0])\n",
    "    G[i,y.reshape(-1)[i] - 1] = 1/np.sqrt(length_)\n",
    "assert (np.round(np.dot(G.T,G),4) == np.identity(K)).all() #详见论文公式8 G >= 0, G.T * G = I_c\n",
    "#round理由同上。"
   ]
  },
  {
   "cell_type": "markdown",
   "id": "623afda0",
   "metadata": {},
   "source": [
    "---\n",
    "### algorithm iteration"
   ]
  },
  {
   "cell_type": "code",
   "execution_count": 16,
   "id": "389b28f6",
   "metadata": {},
   "outputs": [
    {
     "name": "stderr",
     "output_type": "stream",
     "text": [
      "100%|█████████████████████████████████████████| 50/50 [13:45<00:00, 16.51s/it]\n"
     ]
    }
   ],
   "source": [
    "from tqdm import trange\n",
    "import warnings\n",
    "warnings.filterwarnings('ignore')\n",
    "\n",
    "iterative_num = 50\n",
    "W = np.zeros((d,K))\n",
    "answer1 = []\n",
    "answer2 = []\n",
    "#answer3 = []\n",
    "#answer4 = []\n",
    "for i in trange(iterative_num):\n",
    "    \n",
    "    #更新W\n",
    "    for k in range(K):\n",
    "        z_k = Z[:,k] \n",
    "        g_k = G[:,k] \n",
    "        w_k = np.dot(np.dot(np.linalg.inv(np.dot(X,X.T) + lamda * np.diag(1/z_k)), X), g_k)\n",
    "        W[:,k] = w_k\n",
    "    \n",
    "    #更新G\n",
    "    for k in range(K):\n",
    "        t_k = np.dot(np.dot(X.T,np.linalg.inv(np.dot(X,X.T) + lamda * np.diag(1/z_k))), X)\n",
    "        g_k = G[:,k] \n",
    "        temp1_ = np.dot(t_k + beta * U + gamma * np.identity(n),g_k)\n",
    "        temp2_ = np.dot(beta * (L + U) + gamma * np.dot(G,G.T), g_k)\n",
    "        g_k = g_k * temp1_ / temp2_\n",
    "        G[:,k] = g_k\n",
    "    \n",
    "    #更新Z\n",
    "    for k in range(K):\n",
    "        Z[:,k] = abs(W[:,k])/sum(abs(W[:,k]))    \n",
    "    \n",
    "    #计算目标函数\n",
    "    temp1_ = 0\n",
    "    for k in range(K):\n",
    "        g_k = G[:,k]\n",
    "        z_k = Z[:,k]\n",
    "        temp_ = np.dot(np.dot(g_k.T,X.T),np.linalg.inv(np.dot(X,X.T) + lamda * np.diag(1/z_k)))\n",
    "        temp_ = np.dot(np.dot(temp_,X),g_k)\n",
    "        temp1_ += temp_         \n",
    "    temp2_ = beta * ((np.trace(np.dot(np.dot(G.T,L),G))) + (np.trace(np.dot(np.dot((G-Y).T,U),G-Y))))\n",
    "    #print(np.trace(np.dot(np.dot((G-Y).T,U),G-Y)))\n",
    "    #print(np.trace(np.dot(np.dot(G.T,L),G)))\n",
    "    #temp3_ = gamma/2 * np.linalg.norm(np.dot(G.T,G) - np.identity(K))\n",
    "    #fai = ((G >= 0) * G).T\n",
    "    #temp4_ = np.trace(np.dot(fai.T,G.T))\n",
    "    #object_func = -temp1_ + temp2_ + temp3_ + temp4_\n",
    "    #object_func = -temp1_\n",
    "    #print(object_func)\n",
    "    #print(temp1_,temp2_,temp3_,temp4_)\n",
    "    answer1.append(temp1_)\n",
    "    answer2.append(temp2_)\n",
    "    #answer3.append(temp3_)\n",
    "    #answer4.append(temp4_)\n",
    "object_func = -np.array(answer1)*gamma + np.mean(np.array(answer2))\n",
    "#参见公式11"
   ]
  },
  {
   "cell_type": "markdown",
   "id": "b4ea0844",
   "metadata": {},
   "source": [
    "---\n",
    "### object function visualization"
   ]
  },
  {
   "cell_type": "code",
   "execution_count": 17,
   "id": "75338354",
   "metadata": {},
   "outputs": [
    {
     "data": {
      "text/plain": [
       "[<matplotlib.lines.Line2D at 0x12f67cb20>]"
      ]
     },
     "execution_count": 17,
     "metadata": {},
     "output_type": "execute_result"
    },
    {
     "data": {
      "image/png": "[encoded data removed]",
      "text/plain": [
       "<Figure size 432x288 with 1 Axes>"
      ]
     },
     "metadata": {
      "needs_background": "light"
     },
     "output_type": "display_data"
    }
   ],
   "source": [
    "import matplotlib.pyplot as plt\n",
    "plt.plot(object_func)"
   ]
  },
  {
   "cell_type": "markdown",
   "id": "caa735e7",
   "metadata": {},
   "source": [
    "---\n",
    "### prediction"
   ]
  },
  {
   "cell_type": "code",
   "execution_count": 18,
   "id": "08502128",
   "metadata": {},
   "outputs": [],
   "source": [
    "#For any new data sample x, the found features are first chosen by using the learned zk for each class, and then, the\n",
    "#probability score is predicted using wk. The class label is assigned to the one with the highest predicted probability.\n",
    "#见论文公式13下的预测说明，本质上来说是直接应用上述迭代算法得到的软权重去直接预测。\n",
    "test_predict = []\n",
    "for mm in range(X_test.shape[0]):\n",
    "    predict_c = []\n",
    "    for i in range(c):\n",
    "        predict_c.append(sum(X_test.T[:,mm] * Z[:,i] * W[:,i]))\n",
    "    test_predict.append(np.argmax(predict_c) + 1)"
   ]
  },
  {
   "cell_type": "code",
   "execution_count": 19,
   "id": "f1fcc4c5",
   "metadata": {},
   "outputs": [
    {
     "name": "stdout",
     "output_type": "stream",
     "text": [
      "prediction accuracy:  0.93\n"
     ]
    }
   ],
   "source": [
    "predict_acc = sum(np.array(test_predict) == np.array(y_test).reshape(-1)) / len(np.array(y_test).reshape(-1))\n",
    "print('prediction accuracy: ',predict_acc)"
   ]
  },
  {
   "cell_type": "code",
   "execution_count": 20,
   "id": "a1c69589",
   "metadata": {},
   "outputs": [],
   "source": [
    "#然后根据重要性矩阵筛选排名前m个特征，作为某个类别的预测输入。然后用ridge regression来做预测。针对每个类别做01预测，取概率最大的那个。\n",
    "#The ridge regression model was used as the classifier to verify the performance of the methods in terms\n",
    "#of their classification accuracy over unlabeled and test data.\n",
    "#详见论文4.2最后的说明\n",
    "\n",
    "from sklearn.linear_model import LogisticRegression\n",
    "clf_l2_LR = LogisticRegression(penalty='l2')\n",
    "\n",
    "m = 100\n",
    "#针对每个类别取100个最重要的特征\n",
    "answer_predict2 = [] \n",
    "for i in range(c):\n",
    "    index_train1 = np.where(y_train == (i+1))[0]\n",
    "    index_train2 = np.where(y_train != (i+1))[0]\n",
    "    X_train1_ = X_train[index_train1]\n",
    "    y_train1_ = y_train[index_train1]\n",
    "    X_train2_ = X_train[index_train2]\n",
    "    y_train2_ = np.zeros(y_train[index_train2].shape)    \n",
    "    X_train_ = np.vstack((X_train1_,X_train2_))\n",
    "    y_train_ = np.vstack((y_train1_,y_train2_))\n",
    "    index_feature = np.argsort(W[:,i])[-m:]\n",
    "    clf_l2_LR = LogisticRegression(penalty='l2')\n",
    "    clf_l2_LR.fit(X_train_[:,index_feature],y_train_)\n",
    "    predict_ans = clf_l2_LR.predict_proba(X_test[:,index_feature])\n",
    "    answer_predict2.append(predict_ans[:,1])"
   ]
  },
  {
   "cell_type": "code",
   "execution_count": 21,
   "id": "9ee241b9",
   "metadata": {},
   "outputs": [],
   "source": [
    "predict_ans2 = np.argmax(np.array(answer_predict2),axis = 0) + 1"
   ]
  },
  {
   "cell_type": "code",
   "execution_count": 22,
   "id": "476391aa",
   "metadata": {},
   "outputs": [
    {
     "name": "stdout",
     "output_type": "stream",
     "text": [
      "prediction accuracy:  0.76\n"
     ]
    }
   ],
   "source": [
    "predict_acc2 = sum(predict_ans2 == np.array(y_test).reshape(-1)) / len(np.array(y_test).reshape(-1))\n",
    "print('prediction accuracy: ',predict_acc2)"
   ]
  },
  {
   "cell_type": "code",
   "execution_count": null,
   "id": "8bbf9d12",
   "metadata": {},
   "outputs": [],
   "source": []
  },
  {
   "cell_type": "code",
   "execution_count": null,
   "id": "2243ee9b",
   "metadata": {},
   "outputs": [],
   "source": []
  }
 ],
 "metadata": {
  "kernelspec": {
   "display_name": "Python 3 (ipykernel)",
   "language": "python",
   "name": "python3"
  },
  "language_info": {
   "codemirror_mode": {
    "name": "ipython",
    "version": 3
   },
   "file_extension": ".py",
   "mimetype": "text/x-python",
   "name": "python",
   "nbconvert_exporter": "python",
   "pygments_lexer": "ipython3",
   "version": "3.8.2"
  }
 },
 "nbformat": 4,
 "nbformat_minor": 5
}
